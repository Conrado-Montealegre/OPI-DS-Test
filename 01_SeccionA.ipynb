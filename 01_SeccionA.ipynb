{
 "metadata": {
  "language_info": {
   "codemirror_mode": {
    "name": "ipython",
    "version": 3
   },
   "file_extension": ".py",
   "mimetype": "text/x-python",
   "name": "python",
   "nbconvert_exporter": "python",
   "pygments_lexer": "ipython3",
   "version": "3.6.13"
  },
  "orig_nbformat": 4,
  "kernelspec": {
   "name": "python3",
   "display_name": "Python 3.6.13 64-bit"
  },
  "interpreter": {
   "hash": "26a716618ec01ce43a4d5d8e19bd7fd65e1036c0e8f7dfd38cf9904a6ff8fbff"
  }
 },
 "nbformat": 4,
 "nbformat_minor": 2,
 "cells": [
  {
   "source": [
    "# Sección A - Datos abiertos de la CDMX\n",
    "\n",
    "## La Agencia Digital de Innovación Pública tiene disponibles los datos georeferenciados de las carpetas de investigación aportados por la PGJ. La tabla está disponible aquí: \n",
    "\n",
    "## https://datos.cdmx.gob.mx/dataset/carpetas-de-investigacion-fgj-de-la-ciudad-de-mexico/resource/48fcb848-220c-4af0-839b-4fd8ac812c0f\n"
   ],
   "cell_type": "markdown",
   "metadata": {}
  },
  {
   "cell_type": "code",
   "execution_count": 1,
   "metadata": {},
   "outputs": [],
   "source": [
    "import pandas as pd\n",
    "import numpy as np\n",
    "import matplotlib as plt"
   ]
  },
  {
   "source": [
    "Carga de los datos"
   ],
   "cell_type": "markdown",
   "metadata": {}
  },
  {
   "cell_type": "code",
   "execution_count": 2,
   "metadata": {},
   "outputs": [
    {
     "output_type": "stream",
     "name": "stderr",
     "text": [
      "C:\\Users\\conra\\.edm\\envs\\DataScience\\lib\\site-packages\\IPython\\core\\interactiveshell.py:3072: DtypeWarning: Columns (15) have mixed types. Specify dtype option on import or set low_memory=False.\n  interactivity=interactivity, compiler=compiler, result=result)\n"
     ]
    }
   ],
   "source": [
    "carpetasInv = pd.read_csv(\"Data/carpetas_completa_abril_2021.csv\")"
   ]
  },
  {
   "source": [
    "## 1. ¿Qué pruebas identificarías para asegurar la calidad de estos datos? No es necesario hacerlas. Sólo describe la prueba y qué te dice cada una."
   ],
   "cell_type": "markdown",
   "metadata": {}
  },
  {
   "source": [
    "- Entender primero los datos que se analizan. Revisar en la fuente el diccionario de datos y los antecedentes que permitan entender el contexto de la información que contiene el conjunto de datos.\n",
    "- Una vez cargados los datos hay que revisar:\n",
    "    - Tipos de datos: verificar que los datos se hayan cargado de manera correcta de acuerdo a los tipos de datos. Por ejemplo, verificar que campos numéricos no se hayan cargado como campos alfanuméricos.\n",
    "    - Distribución de los datos: revisar el resúmen de los estadísticos de los datos para entender cómo se encuentran estos distribuidos.\n",
    "- Identificar problemas potenciales con los datos: \n",
    "    - Si hay campos/registros que tienen faltantes y definir una estrategia sobre cómo se trataran estos faltantes (por ejmplo, si se eliminan los campos/registros, o bien se \"rellenan\" con datos interpolados, etc.)\n",
    "    - Revisar si las variables categóricas son consistentes, es decir, las categorías están definidas sin errores (por ejemplo, uso de sinónimos: \"No aplicable\", \"N/A\", \"no_aplic\")\n",
    "    - Existencia de campos que contienen información mezclada donde se necesite procesarla para separarla.\n",
    "    - Eliminación de duplicados"
   ],
   "cell_type": "markdown",
   "metadata": {}
  },
  {
   "cell_type": "code",
   "execution_count": 3,
   "metadata": {},
   "outputs": [
    {
     "output_type": "execute_result",
     "data": {
      "text/plain": [
       "   ao_hechos mes_hechos         fecha_hechos  ao_inicio mes_inicio  \\\n",
       "0     2016.0      Enero  2016-01-31 22:16:00       2016    Febrero   \n",
       "1     2016.0      Enero  2016-01-31 20:50:00       2016    Febrero   \n",
       "2     2016.0    Febrero  2016-02-01 00:30:00       2016    Febrero   \n",
       "3     2016.0      Enero  2016-01-31 22:00:00       2016    Febrero   \n",
       "4     2015.0  Diciembre  2015-12-25 12:00:00       2016    Febrero   \n",
       "\n",
       "          fecha_inicio                                             delito  \\\n",
       "0  2016-02-01 00:25:44                DAÑO EN PROPIEDAD AJENA INTENCIONAL   \n",
       "1  2016-02-01 00:52:37  ROBO DE VEHICULO DE SERVICIO PARTICULAR CON VI...   \n",
       "2  2016-02-01 01:33:26                       NARCOMENUDEO POSESION SIMPLE   \n",
       "3  2016-02-01 02:09:11     ROBO A TRANSEUNTE EN VIA PUBLICA CON VIOLENCIA   \n",
       "4  2016-02-01 02:16:49                                 DENUNCIA DE HECHOS   \n",
       "\n",
       "                                            fiscalia    agencia  \\\n",
       "0                     INVESTIGACIÓN EN BENITO JUÁREZ       BJ-2   \n",
       "1  INVESTIGACIÓN PARA LA ATENCIÓN DEL DELITO DE R...  ORIENTEII   \n",
       "2  INVESTIGACIÓN PARA LA ATENCIÓN DE NIÑOS, NIÑAS...         57   \n",
       "3                        INVESTIGACIÓN EN IZTAPALAPA      IZP-6   \n",
       "4                     INVESTIGACIÓN EN BENITO JUÁREZ       BJ-1   \n",
       "\n",
       "  unidad_investigacion                                   categoria_delito  \\\n",
       "0               UI-3CD                             DELITO DE BAJO IMPACTO   \n",
       "1               UI-3CD               ROBO DE VEHÍCULO CON Y SIN VIOLENCIA   \n",
       "2               UI-3CD                             DELITO DE BAJO IMPACTO   \n",
       "3               UI-3CD  ROBO A TRANSEUNTE EN VÍA PÚBLICA CON Y SIN VIO...   \n",
       "4               UI-3SD                                 HECHO NO DELICTIVO   \n",
       "\n",
       "       calle_hechos              calle_hechos2           colonia_hechos  \\\n",
       "0  CALZ. DE TLALPAN                  LAGO PTE.          AMÉRICAS UNIDAS   \n",
       "1          SUR 25 A                  GRANJEROS             LOS CIPRESES   \n",
       "2  BATALLONES ROJOS                        NaN  UNIDAD VICENTE GUERRERO   \n",
       "3           GERANIO                 GAVILLEROS          EMILIANO ZAPATA   \n",
       "4     SAN FRANCISCO  AVENIDA COLONIA DEL VALLE         DEL VALLE CENTRO   \n",
       "\n",
       "  alcaldia_hechos competencia   longitud    latitud  tempo  \n",
       "0   BENITO JUAREZ         NaN -99.140215  19.380315    NaN  \n",
       "1      IZTAPALAPA         NaN -99.108403  19.352859    NaN  \n",
       "2      IZTAPALAPA         NaN -99.061321  19.356451    NaN  \n",
       "3      IZTAPALAPA         NaN -98.976379  19.331633    NaN  \n",
       "4   BENITO JUAREZ         NaN -99.172189  19.387114    NaN  "
      ],
      "text/html": "<div>\n<style scoped>\n    .dataframe tbody tr th:only-of-type {\n        vertical-align: middle;\n    }\n\n    .dataframe tbody tr th {\n        vertical-align: top;\n    }\n\n    .dataframe thead th {\n        text-align: right;\n    }\n</style>\n<table border=\"1\" class=\"dataframe\">\n  <thead>\n    <tr style=\"text-align: right;\">\n      <th></th>\n      <th>ao_hechos</th>\n      <th>mes_hechos</th>\n      <th>fecha_hechos</th>\n      <th>ao_inicio</th>\n      <th>mes_inicio</th>\n      <th>fecha_inicio</th>\n      <th>delito</th>\n      <th>fiscalia</th>\n      <th>agencia</th>\n      <th>unidad_investigacion</th>\n      <th>categoria_delito</th>\n      <th>calle_hechos</th>\n      <th>calle_hechos2</th>\n      <th>colonia_hechos</th>\n      <th>alcaldia_hechos</th>\n      <th>competencia</th>\n      <th>longitud</th>\n      <th>latitud</th>\n      <th>tempo</th>\n    </tr>\n  </thead>\n  <tbody>\n    <tr>\n      <th>0</th>\n      <td>2016.0</td>\n      <td>Enero</td>\n      <td>2016-01-31 22:16:00</td>\n      <td>2016</td>\n      <td>Febrero</td>\n      <td>2016-02-01 00:25:44</td>\n      <td>DAÑO EN PROPIEDAD AJENA INTENCIONAL</td>\n      <td>INVESTIGACIÓN EN BENITO JUÁREZ</td>\n      <td>BJ-2</td>\n      <td>UI-3CD</td>\n      <td>DELITO DE BAJO IMPACTO</td>\n      <td>CALZ. DE TLALPAN</td>\n      <td>LAGO PTE.</td>\n      <td>AMÉRICAS UNIDAS</td>\n      <td>BENITO JUAREZ</td>\n      <td>NaN</td>\n      <td>-99.140215</td>\n      <td>19.380315</td>\n      <td>NaN</td>\n    </tr>\n    <tr>\n      <th>1</th>\n      <td>2016.0</td>\n      <td>Enero</td>\n      <td>2016-01-31 20:50:00</td>\n      <td>2016</td>\n      <td>Febrero</td>\n      <td>2016-02-01 00:52:37</td>\n      <td>ROBO DE VEHICULO DE SERVICIO PARTICULAR CON VI...</td>\n      <td>INVESTIGACIÓN PARA LA ATENCIÓN DEL DELITO DE R...</td>\n      <td>ORIENTEII</td>\n      <td>UI-3CD</td>\n      <td>ROBO DE VEHÍCULO CON Y SIN VIOLENCIA</td>\n      <td>SUR 25 A</td>\n      <td>GRANJEROS</td>\n      <td>LOS CIPRESES</td>\n      <td>IZTAPALAPA</td>\n      <td>NaN</td>\n      <td>-99.108403</td>\n      <td>19.352859</td>\n      <td>NaN</td>\n    </tr>\n    <tr>\n      <th>2</th>\n      <td>2016.0</td>\n      <td>Febrero</td>\n      <td>2016-02-01 00:30:00</td>\n      <td>2016</td>\n      <td>Febrero</td>\n      <td>2016-02-01 01:33:26</td>\n      <td>NARCOMENUDEO POSESION SIMPLE</td>\n      <td>INVESTIGACIÓN PARA LA ATENCIÓN DE NIÑOS, NIÑAS...</td>\n      <td>57</td>\n      <td>UI-3CD</td>\n      <td>DELITO DE BAJO IMPACTO</td>\n      <td>BATALLONES ROJOS</td>\n      <td>NaN</td>\n      <td>UNIDAD VICENTE GUERRERO</td>\n      <td>IZTAPALAPA</td>\n      <td>NaN</td>\n      <td>-99.061321</td>\n      <td>19.356451</td>\n      <td>NaN</td>\n    </tr>\n    <tr>\n      <th>3</th>\n      <td>2016.0</td>\n      <td>Enero</td>\n      <td>2016-01-31 22:00:00</td>\n      <td>2016</td>\n      <td>Febrero</td>\n      <td>2016-02-01 02:09:11</td>\n      <td>ROBO A TRANSEUNTE EN VIA PUBLICA CON VIOLENCIA</td>\n      <td>INVESTIGACIÓN EN IZTAPALAPA</td>\n      <td>IZP-6</td>\n      <td>UI-3CD</td>\n      <td>ROBO A TRANSEUNTE EN VÍA PÚBLICA CON Y SIN VIO...</td>\n      <td>GERANIO</td>\n      <td>GAVILLEROS</td>\n      <td>EMILIANO ZAPATA</td>\n      <td>IZTAPALAPA</td>\n      <td>NaN</td>\n      <td>-98.976379</td>\n      <td>19.331633</td>\n      <td>NaN</td>\n    </tr>\n    <tr>\n      <th>4</th>\n      <td>2015.0</td>\n      <td>Diciembre</td>\n      <td>2015-12-25 12:00:00</td>\n      <td>2016</td>\n      <td>Febrero</td>\n      <td>2016-02-01 02:16:49</td>\n      <td>DENUNCIA DE HECHOS</td>\n      <td>INVESTIGACIÓN EN BENITO JUÁREZ</td>\n      <td>BJ-1</td>\n      <td>UI-3SD</td>\n      <td>HECHO NO DELICTIVO</td>\n      <td>SAN FRANCISCO</td>\n      <td>AVENIDA COLONIA DEL VALLE</td>\n      <td>DEL VALLE CENTRO</td>\n      <td>BENITO JUAREZ</td>\n      <td>NaN</td>\n      <td>-99.172189</td>\n      <td>19.387114</td>\n      <td>NaN</td>\n    </tr>\n  </tbody>\n</table>\n</div>"
     },
     "metadata": {},
     "execution_count": 3
    }
   ],
   "source": [
    "carpetasInv.head()"
   ]
  },
  {
   "cell_type": "code",
   "execution_count": 4,
   "metadata": {},
   "outputs": [
    {
     "output_type": "execute_result",
     "data": {
      "text/plain": [
       "         ao_hechos mes_hechos         fecha_hechos  ao_inicio mes_inicio  \\\n",
       "1208353     2021.0      Abril  2021-04-11 15:00:00       2021      Abril   \n",
       "1208354     2021.0      Abril  2021-04-30 23:00:00       2021      Abril   \n",
       "1208355     2021.0      Abril  2021-04-24 15:00:00       2021      Abril   \n",
       "1208356     2021.0      Abril  2021-04-27 09:00:00       2021      Abril   \n",
       "1208357     2021.0      Abril  2021-04-06 12:26:00       2021      Abril   \n",
       "\n",
       "                fecha_inicio  \\\n",
       "1208353  2021-04-30 23:46:49   \n",
       "1208354  2021-04-30 23:47:25   \n",
       "1208355  2021-04-30 23:48:51   \n",
       "1208356  2021-04-30 23:54:31   \n",
       "1208357  2021-04-30 23:58:49   \n",
       "\n",
       "                                                    delito  \\\n",
       "1208353                                             FRAUDE   \n",
       "1208354                    PERDIDA DE LA VIDA POR SUICIDIO   \n",
       "1208355  DAÑO EN PROPIEDAD AJENA CULPOSA POR TRÁNSITO V...   \n",
       "1208356        ROBO DE OBJETOS DEL INTERIOR DE UN VEHICULO   \n",
       "1208357  FALSIFICACION O ALTERACION Y USO INDEBIDO DE D...   \n",
       "\n",
       "                                                  fiscalia   agencia  \\\n",
       "1208353  FISCALÍA DE INVESTIGACIÓN TERRITORIAL EN ALVAR...      AO-4   \n",
       "1208354  FISCALÍA DE INVESTIGACIÓN TERRITORIAL EN BENIT...  UAT-BJ-1   \n",
       "1208355  FISCALÍA DE INVESTIGACIÓN TERRITORIAL EN BENIT...  UAT-BJ-1   \n",
       "1208356                        AGENCIA DE DENUNCIA DIGITAL     CEN-1   \n",
       "1208357  FISCALÍA DE INVESTIGACIÓN TERRITORIAL EN COYOACÁN     COY-2   \n",
       "\n",
       "                  unidad_investigacion        categoria_delito  \\\n",
       "1208353                         UI-2SD  DELITO DE BAJO IMPACTO   \n",
       "1208354                 1 SIN DETENIDO      HECHO NO DELICTIVO   \n",
       "1208355                 1 SIN DETENIDO  DELITO DE BAJO IMPACTO   \n",
       "1208356  Unidad de Investigación 1 S/D  DELITO DE BAJO IMPACTO   \n",
       "1208357                         UI-2CD  DELITO DE BAJO IMPACTO   \n",
       "\n",
       "               calle_hechos calle_hechos2    colonia_hechos alcaldia_hechos  \\\n",
       "1208353        RAFAEL CHECA           NaN       CHIMALISTAC  ALVARO OBREGON   \n",
       "1208354            NEBRASKA       LUSIANA           NAPOLES   BENITO JUAREZ   \n",
       "1208355  DIVISION DEL NORTE          XOLA  DEL VALLE CENTRO   BENITO JUAREZ   \n",
       "1208356             TABASCO       ORIZABA        ROMA NORTE      CUAUHTEMOC   \n",
       "1208357             CALLE D           NaN         EDUCACIÓN        COYOACAN   \n",
       "\n",
       "                competencia   longitud    latitud  tempo  \n",
       "1208353         FUERO COMUN -99.187368  19.343745    NaN  \n",
       "1208354  HECHO NO DELICTIVO -99.175690  19.392014    NaN  \n",
       "1208355         FUERO COMUN -99.169775  19.398082    NaN  \n",
       "1208356         FUERO COMUN -99.160929  19.418954    NaN  \n",
       "1208357         FUERO COMUN -99.135717  19.334169    NaN  "
      ],
      "text/html": "<div>\n<style scoped>\n    .dataframe tbody tr th:only-of-type {\n        vertical-align: middle;\n    }\n\n    .dataframe tbody tr th {\n        vertical-align: top;\n    }\n\n    .dataframe thead th {\n        text-align: right;\n    }\n</style>\n<table border=\"1\" class=\"dataframe\">\n  <thead>\n    <tr style=\"text-align: right;\">\n      <th></th>\n      <th>ao_hechos</th>\n      <th>mes_hechos</th>\n      <th>fecha_hechos</th>\n      <th>ao_inicio</th>\n      <th>mes_inicio</th>\n      <th>fecha_inicio</th>\n      <th>delito</th>\n      <th>fiscalia</th>\n      <th>agencia</th>\n      <th>unidad_investigacion</th>\n      <th>categoria_delito</th>\n      <th>calle_hechos</th>\n      <th>calle_hechos2</th>\n      <th>colonia_hechos</th>\n      <th>alcaldia_hechos</th>\n      <th>competencia</th>\n      <th>longitud</th>\n      <th>latitud</th>\n      <th>tempo</th>\n    </tr>\n  </thead>\n  <tbody>\n    <tr>\n      <th>1208353</th>\n      <td>2021.0</td>\n      <td>Abril</td>\n      <td>2021-04-11 15:00:00</td>\n      <td>2021</td>\n      <td>Abril</td>\n      <td>2021-04-30 23:46:49</td>\n      <td>FRAUDE</td>\n      <td>FISCALÍA DE INVESTIGACIÓN TERRITORIAL EN ALVAR...</td>\n      <td>AO-4</td>\n      <td>UI-2SD</td>\n      <td>DELITO DE BAJO IMPACTO</td>\n      <td>RAFAEL CHECA</td>\n      <td>NaN</td>\n      <td>CHIMALISTAC</td>\n      <td>ALVARO OBREGON</td>\n      <td>FUERO COMUN</td>\n      <td>-99.187368</td>\n      <td>19.343745</td>\n      <td>NaN</td>\n    </tr>\n    <tr>\n      <th>1208354</th>\n      <td>2021.0</td>\n      <td>Abril</td>\n      <td>2021-04-30 23:00:00</td>\n      <td>2021</td>\n      <td>Abril</td>\n      <td>2021-04-30 23:47:25</td>\n      <td>PERDIDA DE LA VIDA POR SUICIDIO</td>\n      <td>FISCALÍA DE INVESTIGACIÓN TERRITORIAL EN BENIT...</td>\n      <td>UAT-BJ-1</td>\n      <td>1 SIN DETENIDO</td>\n      <td>HECHO NO DELICTIVO</td>\n      <td>NEBRASKA</td>\n      <td>LUSIANA</td>\n      <td>NAPOLES</td>\n      <td>BENITO JUAREZ</td>\n      <td>HECHO NO DELICTIVO</td>\n      <td>-99.175690</td>\n      <td>19.392014</td>\n      <td>NaN</td>\n    </tr>\n    <tr>\n      <th>1208355</th>\n      <td>2021.0</td>\n      <td>Abril</td>\n      <td>2021-04-24 15:00:00</td>\n      <td>2021</td>\n      <td>Abril</td>\n      <td>2021-04-30 23:48:51</td>\n      <td>DAÑO EN PROPIEDAD AJENA CULPOSA POR TRÁNSITO V...</td>\n      <td>FISCALÍA DE INVESTIGACIÓN TERRITORIAL EN BENIT...</td>\n      <td>UAT-BJ-1</td>\n      <td>1 SIN DETENIDO</td>\n      <td>DELITO DE BAJO IMPACTO</td>\n      <td>DIVISION DEL NORTE</td>\n      <td>XOLA</td>\n      <td>DEL VALLE CENTRO</td>\n      <td>BENITO JUAREZ</td>\n      <td>FUERO COMUN</td>\n      <td>-99.169775</td>\n      <td>19.398082</td>\n      <td>NaN</td>\n    </tr>\n    <tr>\n      <th>1208356</th>\n      <td>2021.0</td>\n      <td>Abril</td>\n      <td>2021-04-27 09:00:00</td>\n      <td>2021</td>\n      <td>Abril</td>\n      <td>2021-04-30 23:54:31</td>\n      <td>ROBO DE OBJETOS DEL INTERIOR DE UN VEHICULO</td>\n      <td>AGENCIA DE DENUNCIA DIGITAL</td>\n      <td>CEN-1</td>\n      <td>Unidad de Investigación 1 S/D</td>\n      <td>DELITO DE BAJO IMPACTO</td>\n      <td>TABASCO</td>\n      <td>ORIZABA</td>\n      <td>ROMA NORTE</td>\n      <td>CUAUHTEMOC</td>\n      <td>FUERO COMUN</td>\n      <td>-99.160929</td>\n      <td>19.418954</td>\n      <td>NaN</td>\n    </tr>\n    <tr>\n      <th>1208357</th>\n      <td>2021.0</td>\n      <td>Abril</td>\n      <td>2021-04-06 12:26:00</td>\n      <td>2021</td>\n      <td>Abril</td>\n      <td>2021-04-30 23:58:49</td>\n      <td>FALSIFICACION O ALTERACION Y USO INDEBIDO DE D...</td>\n      <td>FISCALÍA DE INVESTIGACIÓN TERRITORIAL EN COYOACÁN</td>\n      <td>COY-2</td>\n      <td>UI-2CD</td>\n      <td>DELITO DE BAJO IMPACTO</td>\n      <td>CALLE D</td>\n      <td>NaN</td>\n      <td>EDUCACIÓN</td>\n      <td>COYOACAN</td>\n      <td>FUERO COMUN</td>\n      <td>-99.135717</td>\n      <td>19.334169</td>\n      <td>NaN</td>\n    </tr>\n  </tbody>\n</table>\n</div>"
     },
     "metadata": {},
     "execution_count": 4
    }
   ],
   "source": [
    "carpetasInv.tail()"
   ]
  },
  {
   "cell_type": "code",
   "execution_count": 5,
   "metadata": {},
   "outputs": [
    {
     "output_type": "execute_result",
     "data": {
      "text/plain": [
       "ao_hechos               float64\n",
       "mes_hechos               object\n",
       "fecha_hechos             object\n",
       "ao_inicio                 int64\n",
       "mes_inicio               object\n",
       "fecha_inicio             object\n",
       "delito                   object\n",
       "fiscalia                 object\n",
       "agencia                  object\n",
       "unidad_investigacion     object\n",
       "categoria_delito         object\n",
       "calle_hechos             object\n",
       "calle_hechos2            object\n",
       "colonia_hechos           object\n",
       "alcaldia_hechos          object\n",
       "competencia              object\n",
       "longitud                float64\n",
       "latitud                 float64\n",
       "tempo                   float64\n",
       "dtype: object"
      ]
     },
     "metadata": {},
     "execution_count": 5
    }
   ],
   "source": [
    "carpetasInv.dtypes"
   ]
  },
  {
   "cell_type": "code",
   "execution_count": 6,
   "metadata": {},
   "outputs": [
    {
     "output_type": "stream",
     "name": "stdout",
     "text": [
      "ao_hechos\n",
      "2018.0    253531\n",
      "2019.0    242976\n",
      "2017.0    227029\n",
      "2020.0    198101\n",
      "2016.0    194877\n",
      "           ...  \n",
      "1954.0         1\n",
      "1952.0         1\n",
      "1942.0         1\n",
      "1930.0         1\n",
      "1906.0         1\n",
      "Name: ao_hechos, Length: 71, dtype: int64\n",
      "\n",
      "mes_hechos\n",
      "Marzo         116872\n",
      "Enero         110337\n",
      "Febrero       108993\n",
      "Abril         102994\n",
      "Octubre       102848\n",
      "Agosto         98433\n",
      "Noviembre      97155\n",
      "Septiembre     96399\n",
      "Mayo           94711\n",
      "Diciembre      93870\n",
      "Julio          93623\n",
      "Junio          91689\n",
      "Name: mes_hechos, dtype: int64\n",
      "\n",
      "fecha_hechos\n",
      "2017-10-16 12:00:00    242\n",
      "2016-01-01 12:00:00    171\n",
      "2014-05-30 12:00:00    150\n",
      "2016-06-01 12:00:00    143\n",
      "2018-03-01 12:00:00    141\n",
      "                      ... \n",
      "2016-03-12 06:05:00      1\n",
      "2018-01-11 04:03:00      1\n",
      "2020-03-02 21:29:00      1\n",
      "2017-03-13 16:45:00      1\n",
      "2017-07-21 00:13:00      1\n",
      "Name: fecha_hechos, Length: 400684, dtype: int64\n",
      "\n",
      "ao_inicio\n",
      "2018    255311\n",
      "2019    250386\n",
      "2017    228323\n",
      "2020    204044\n",
      "2016    197913\n",
      "2021     72381\n",
      "Name: ao_inicio, dtype: int64\n",
      "\n",
      "mes_inicio\n",
      "Marzo         119572\n",
      "Febrero       108525\n",
      "Enero         108090\n",
      "Abril         107681\n",
      "Octubre       103731\n",
      "Agosto         98722\n",
      "Noviembre      96344\n",
      "Septiembre     95365\n",
      "Julio          94483\n",
      "Diciembre      92345\n",
      "Mayo           92288\n",
      "Junio          91212\n",
      "Name: mes_inicio, dtype: int64\n",
      "\n",
      "fecha_inicio\n",
      "2018-09-12 18:00:00    8\n",
      "2018-12-04 13:46:00    8\n",
      "2018-01-25 12:44:00    7\n",
      "2019-01-28 18:00:00    7\n",
      "2018-07-27 13:31:00    7\n",
      "                      ..\n",
      "2016-11-16 18:12:49    1\n",
      "2020-08-03 15:10:02    1\n",
      "2020-01-21 16:14:00    1\n",
      "2021-04-30 18:47:39    1\n",
      "2020-11-04 18:49:24    1\n",
      "Name: fecha_inicio, Length: 1121172, dtype: int64\n",
      "\n",
      "delito\n",
      "VIOLENCIA FAMILIAR                                                        122800\n",
      "FRAUDE                                                                     73743\n",
      "ROBO DE OBJETOS                                                            70808\n",
      "ROBO A NEGOCIO SIN VIOLENCIA                                               66177\n",
      "AMENAZAS                                                                   64353\n",
      "                                                                           ...  \n",
      "ROBO DE VEHICULO Y NOMINA CON VIOLENCIA                                        1\n",
      "PROCREACION ASISTIDA, INSEMINACION ARTIFICIAL Y ESTERILIZACION FORZADA         1\n",
      "HOMICIDIO INTENCIONAL Y ROBO DE VEHICULO                                       1\n",
      "CONTRA LA LEY GENERAL DE EXPLOSIVOS                                            1\n",
      "UTILIZACION INDEBIDA DE LA VIA PUBLICA                                         1\n",
      "Name: delito, Length: 341, dtype: int64\n",
      "\n",
      "fiscalia\n",
      "INVESTIGACIÓN EN IZTAPALAPA                                                                             114947\n",
      "INVESTIGACIÓN EN CUAUHTEMOC                                                                             114405\n",
      "INVESTIGACIÓN EN GUSTAVO A. MADERO                                                                       78355\n",
      "INVESTIGACIÓN EN BENITO JUÁREZ                                                                           74528\n",
      "INVESTIGACIÓN EN ÁLVARO OBREGÓN                                                                          54129\n",
      "                                                                                                         ...  \n",
      "FISCALÍA ESPECIALIZADA PARA LA ATENCIÓN DE DELITOS ELECTORALES\\n\\n                                          72\n",
      "UNIDAD DE RECEPCION POR INTERNET                                                                            55\n",
      "ESPECIALIZADA EN LA BÚSQUEDA, LOCALIZACIÓN E INVESTIGACIÓN DE PERSONAS DESAPARECIDAS                        43\n",
      "FISCALIA DELITOS ELECTORALES                                                                                12\n",
      "FISCALÍA DE INVESTIGACIÓN Y PERSECUCIÓN DE LOS DELITOS EN MATERIA DE DESAPARICIÓN FORZADA DE PERSONA         1\n",
      "Name: fiscalia, Length: 73, dtype: int64\n",
      "\n",
      "agencia\n",
      "CUH-2        42676\n",
      "IZP-6        33856\n",
      "BJ-1         32852\n",
      "B            32135\n",
      "BJ-3         31272\n",
      "             ...  \n",
      "URI-GAM-4        1\n",
      "AZ-3             1\n",
      "HOM-E            1\n",
      "URI-GAM-3        1\n",
      "IRRII            1\n",
      "Name: agencia, Length: 179, dtype: int64\n",
      "\n",
      "unidad_investigacion\n",
      "UI-1SD                   315681\n",
      "UI-2SD                   173752\n",
      "UI-1CD                   162940\n",
      "UI-3CD                   150698\n",
      "UI-3SD                   146182\n",
      "                          ...  \n",
      "FDS-4-04                      1\n",
      "JUDICIALIZACION 1 S/D         1\n",
      "B-7 SIN DETENIDO              1\n",
      "UNIDAD 6 SIN DETENIDO         1\n",
      "UEAEMDVD-1                    1\n",
      "Name: unidad_investigacion, Length: 123, dtype: int64\n",
      "\n",
      "categoria_delito\n",
      "DELITO DE BAJO IMPACTO                                     941573\n",
      "ROBO A TRANSEUNTE EN VÍA PÚBLICA CON Y SIN VIOLENCIA        68904\n",
      "ROBO DE VEHÍCULO CON Y SIN VIOLENCIA                        64381\n",
      "HECHO NO DELICTIVO                                          56177\n",
      "ROBO A NEGOCIO CON VIOLENCIA                                20034\n",
      "ROBO A REPARTIDOR CON Y SIN VIOLENCIA                       12555\n",
      "ROBO A PASAJERO A BORDO DEL METRO CON Y SIN VIOLENCIA       11060\n",
      "LESIONES DOLOSAS POR DISPARO DE ARMA DE FUEGO                8919\n",
      "HOMICIDIO DOLOSO                                             6975\n",
      "VIOLACIÓN                                                    6292\n",
      "ROBO A PASAJERO A BORDO DE MICROBUS CON Y SIN VIOLENCIA      4100\n",
      "ROBO A CASA HABITACIÓN CON VIOLENCIA                         3072\n",
      "ROBO A CUENTAHABIENTE SALIENDO DEL CAJERO CON VIOLENCIA      2284\n",
      "ROBO A PASAJERO A BORDO DE TAXI CON VIOLENCIA                1187\n",
      "ROBO A TRANSPORTISTA CON Y SIN VIOLENCIA                      658\n",
      "SECUESTRO                                                     184\n",
      "FEMINICIDIO                                                     2\n",
      "PLAGIO O SECUESTRO                                              1\n",
      "Name: categoria_delito, dtype: int64\n",
      "\n",
      "calle_hechos\n",
      "CALZADA DE TLALPAN                  5134\n",
      "SIN CALLES DEL SAP                  5025\n",
      "EJE CENTRAL LAZARO CARDENAS         4593\n",
      "CALZADA IGNACIO ZARAGOZA            4233\n",
      "AVENIDA TLAHUAC                     3522\n",
      "                                    ... \n",
      "ACHAYATIPAN                            1\n",
      "SAN FELIPE (SAN FELIPE DE JESUS)       1\n",
      "RODOLFO VIRCHAW.                       1\n",
      "ANTONIO NERY                           1\n",
      "PICOS VI B AND 8                       1\n",
      "Name: calle_hechos, Length: 251464, dtype: int64\n",
      "\n",
      "calle_hechos2\n",
      ".                                          2785\n",
      "EJE CENTRAL LAZARO CARDENAS                1614\n",
      "NOTIFICACION CASO MEDICO LEGAL             1551\n",
      "PERIFERICO                                 1331\n",
      "CUAUHTEMOC                                 1110\n",
      "                                           ... \n",
      "BOULVARD PUERTO AREO                          1\n",
      "CERRADA DE AZUCENA                            1\n",
      "ESQUINA  TERCERA CALLE DE JOSE BARRAGAN       1\n",
      "PRIV. TRES ESTRELLAS Y LORENZO BOTURINI       1\n",
      "ACUEXCOMAC   -NO ESTA MARCADA-                1\n",
      "Name: calle_hechos2, Length: 112079, dtype: int64\n",
      "\n",
      "colonia_hechos\n",
      "CENTRO                                      39658\n",
      "DOCTORES                                    23445\n",
      "DEL VALLE CENTRO                            17623\n",
      "ROMA NORTE                                  14562\n",
      "NARVARTE                                    12806\n",
      "                                            ...  \n",
      "LOMAS DE BELLAVISTA                             1\n",
      "REFORMA                                         1\n",
      "LOMA BONITA                                     1\n",
      "EL CHAMIZAL                                     1\n",
      "INDUSTRIAL ALCE BLANCO - FRACCIONAMIENTO        1\n",
      "Name: colonia_hechos, Length: 1661, dtype: int64\n",
      "\n",
      "alcaldia_hechos\n",
      "CUAUHTEMOC               188304\n",
      "IZTAPALAPA               181818\n",
      "GUSTAVO A MADERO         121166\n",
      "BENITO JUAREZ            100539\n",
      "ALVARO OBREGON            82051\n",
      "                          ...  \n",
      "JESUS MARIA                   1\n",
      "SANTIAGO YOSONDUA             1\n",
      "CUAUTEPEC DE HINOJOSA         1\n",
      "AGUA PRIETA                   1\n",
      "HUEYPOXTLA                    1\n",
      "Name: alcaldia_hechos, Length: 544, dtype: int64\n",
      "\n",
      "competencia\n",
      "FUERO COMUN           140257\n",
      "HECHO NO DELICTIVO      2661\n",
      "INCOMPETENCIA           1361\n",
      "Name: competencia, dtype: int64\n",
      "\n",
      "longitud\n",
      "-99.149570    345\n",
      "-99.070157    277\n",
      "-99.113105    242\n",
      "-99.052963    202\n",
      "-99.148380    181\n",
      "             ... \n",
      "-99.178519      1\n",
      "-98.998555      1\n",
      "-99.046160      1\n",
      "-99.157389      1\n",
      "-99.097498      1\n",
      "Name: longitud, Length: 779307, dtype: int64\n",
      "\n",
      "latitud\n",
      "19.421210    356\n",
      "19.393029    276\n",
      "19.382933    202\n",
      "19.393029    177\n",
      "19.307951    171\n",
      "            ... \n",
      "19.389718      1\n",
      "19.473901      1\n",
      "19.376606      1\n",
      "19.186130      1\n",
      "19.313689      1\n",
      "Name: latitud, Length: 788939, dtype: int64\n",
      "\n",
      "tempo\n",
      "Series([], Name: tempo, dtype: int64)\n",
      "\n"
     ]
    }
   ],
   "source": [
    "for column in carpetasInv.columns.values.tolist():\n",
    "    print(column)\n",
    "    print(carpetasInv[column].value_counts())\n",
    "    print(\"\")"
   ]
  },
  {
   "cell_type": "code",
   "execution_count": 7,
   "metadata": {},
   "outputs": [],
   "source": [
    "carpetasInv[\"fecha_hechos\"] = carpetasInv[\"fecha_hechos\"].astype(\"datetime64\")\n",
    "carpetasInv[\"fecha_inicio\"] = carpetasInv[\"fecha_inicio\"].astype(\"datetime64\")"
   ]
  },
  {
   "cell_type": "code",
   "execution_count": 8,
   "metadata": {},
   "outputs": [
    {
     "output_type": "execute_result",
     "data": {
      "text/plain": [
       "array([2016., 2015., 2012., 2014., 2011., 2008., 2006., 2010., 2013.,\n",
       "       2005., 2009.,   nan, 1955., 2004., 2002., 1998., 1997., 1965.,\n",
       "       2007., 2000., 1987., 1999., 1956., 2001., 1996., 1986., 1915.,\n",
       "       1988., 2017., 2003., 1991., 1993., 1977., 1984., 1995., 1994.,\n",
       "       1990., 1992., 1978., 1989., 1972., 2018., 2019., 1974., 1970.,\n",
       "       1980., 1976., 1983., 1985., 1966., 1969., 1981., 1960., 1982.,\n",
       "       1975., 1954., 1973., 1964., 1968., 1963., 1971., 1958., 1942.,\n",
       "       1930., 1979., 1906., 1962., 1957., 2020., 1950., 1952., 2021.])"
      ]
     },
     "metadata": {},
     "execution_count": 8
    }
   ],
   "source": [
    "carpetasInv[\"ao_hechos\"].unique()"
   ]
  },
  {
   "cell_type": "code",
   "execution_count": 9,
   "metadata": {},
   "outputs": [
    {
     "output_type": "error",
     "ename": "SyntaxError",
     "evalue": "unexpected EOF while parsing (<ipython-input-9-1683d0058cf0>, line 1)",
     "traceback": [
      "\u001b[1;36m  File \u001b[1;32m\"<ipython-input-9-1683d0058cf0>\"\u001b[1;36m, line \u001b[1;32m1\u001b[0m\n\u001b[1;33m    carpetasInv[\"ao_hechos\"].replace(np.nan,\"0\"\u001b[0m\n\u001b[1;37m                                               ^\u001b[0m\n\u001b[1;31mSyntaxError\u001b[0m\u001b[1;31m:\u001b[0m unexpected EOF while parsing\n"
     ]
    }
   ],
   "source": [
    "carpetasInv[\"ao_hechos\"].replace(np.nan,\"0\""
   ]
  },
  {
   "cell_type": "code",
   "execution_count": 10,
   "metadata": {},
   "outputs": [
    {
     "output_type": "execute_result",
     "data": {
      "text/plain": [
       "array([2016., 2015., 2012., 2014., 2011., 2008., 2006., 2010., 2013.,\n",
       "       2005., 2009.,   nan, 1955., 2004., 2002., 1998., 1997., 1965.,\n",
       "       2007., 2000., 1987., 1999., 1956., 2001., 1996., 1986., 1915.,\n",
       "       1988., 2017., 2003., 1991., 1993., 1977., 1984., 1995., 1994.,\n",
       "       1990., 1992., 1978., 1989., 1972., 2018., 2019., 1974., 1970.,\n",
       "       1980., 1976., 1983., 1985., 1966., 1969., 1981., 1960., 1982.,\n",
       "       1975., 1954., 1973., 1964., 1968., 1963., 1971., 1958., 1942.,\n",
       "       1930., 1979., 1906., 1962., 1957., 2020., 1950., 1952., 2021.])"
      ]
     },
     "metadata": {},
     "execution_count": 10
    }
   ],
   "source": [
    "carpetasInv[\"ao_hechos\"].unique()"
   ]
  },
  {
   "cell_type": "code",
   "execution_count": 11,
   "metadata": {},
   "outputs": [
    {
     "output_type": "error",
     "ename": "ValueError",
     "evalue": "Cannot convert non-finite values (NA or inf) to integer",
     "traceback": [
      "\u001b[1;31m---------------------------------------------------------------------------\u001b[0m",
      "\u001b[1;31mValueError\u001b[0m                                Traceback (most recent call last)",
      "\u001b[1;32m<ipython-input-11-b6f8652dedb1>\u001b[0m in \u001b[0;36m<module>\u001b[1;34m\u001b[0m\n\u001b[1;32m----> 1\u001b[1;33m \u001b[0mcarpetasInv\u001b[0m\u001b[1;33m[\u001b[0m\u001b[1;34m\"ao_hechos\"\u001b[0m\u001b[1;33m]\u001b[0m \u001b[1;33m=\u001b[0m \u001b[0mcarpetasInv\u001b[0m\u001b[1;33m[\u001b[0m\u001b[1;34m\"ao_hechos\"\u001b[0m\u001b[1;33m]\u001b[0m\u001b[1;33m.\u001b[0m\u001b[0mastype\u001b[0m\u001b[1;33m(\u001b[0m\u001b[1;34m\"int64\"\u001b[0m\u001b[1;33m)\u001b[0m\u001b[1;33m\u001b[0m\u001b[1;33m\u001b[0m\u001b[0m\n\u001b[0m",
      "\u001b[1;32m~\\.edm\\envs\\DataScience\\lib\\site-packages\\pandas\\core\\generic.py\u001b[0m in \u001b[0;36mastype\u001b[1;34m(self, dtype, copy, errors, **kwargs)\u001b[0m\n\u001b[0;32m   5880\u001b[0m             \u001b[1;31m# else, only a single dtype is given\u001b[0m\u001b[1;33m\u001b[0m\u001b[1;33m\u001b[0m\u001b[1;33m\u001b[0m\u001b[0m\n\u001b[0;32m   5881\u001b[0m             new_data = self._data.astype(\n\u001b[1;32m-> 5882\u001b[1;33m                 \u001b[0mdtype\u001b[0m\u001b[1;33m=\u001b[0m\u001b[0mdtype\u001b[0m\u001b[1;33m,\u001b[0m \u001b[0mcopy\u001b[0m\u001b[1;33m=\u001b[0m\u001b[0mcopy\u001b[0m\u001b[1;33m,\u001b[0m \u001b[0merrors\u001b[0m\u001b[1;33m=\u001b[0m\u001b[0merrors\u001b[0m\u001b[1;33m,\u001b[0m \u001b[1;33m**\u001b[0m\u001b[0mkwargs\u001b[0m\u001b[1;33m\u001b[0m\u001b[1;33m\u001b[0m\u001b[0m\n\u001b[0m\u001b[0;32m   5883\u001b[0m             )\n\u001b[0;32m   5884\u001b[0m             \u001b[1;32mreturn\u001b[0m \u001b[0mself\u001b[0m\u001b[1;33m.\u001b[0m\u001b[0m_constructor\u001b[0m\u001b[1;33m(\u001b[0m\u001b[0mnew_data\u001b[0m\u001b[1;33m)\u001b[0m\u001b[1;33m.\u001b[0m\u001b[0m__finalize__\u001b[0m\u001b[1;33m(\u001b[0m\u001b[0mself\u001b[0m\u001b[1;33m)\u001b[0m\u001b[1;33m\u001b[0m\u001b[1;33m\u001b[0m\u001b[0m\n",
      "\u001b[1;32m~\\.edm\\envs\\DataScience\\lib\\site-packages\\pandas\\core\\internals\\managers.py\u001b[0m in \u001b[0;36mastype\u001b[1;34m(self, dtype, **kwargs)\u001b[0m\n\u001b[0;32m    579\u001b[0m \u001b[1;33m\u001b[0m\u001b[0m\n\u001b[0;32m    580\u001b[0m     \u001b[1;32mdef\u001b[0m \u001b[0mastype\u001b[0m\u001b[1;33m(\u001b[0m\u001b[0mself\u001b[0m\u001b[1;33m,\u001b[0m \u001b[0mdtype\u001b[0m\u001b[1;33m,\u001b[0m \u001b[1;33m**\u001b[0m\u001b[0mkwargs\u001b[0m\u001b[1;33m)\u001b[0m\u001b[1;33m:\u001b[0m\u001b[1;33m\u001b[0m\u001b[1;33m\u001b[0m\u001b[0m\n\u001b[1;32m--> 581\u001b[1;33m         \u001b[1;32mreturn\u001b[0m \u001b[0mself\u001b[0m\u001b[1;33m.\u001b[0m\u001b[0mapply\u001b[0m\u001b[1;33m(\u001b[0m\u001b[1;34m\"astype\"\u001b[0m\u001b[1;33m,\u001b[0m \u001b[0mdtype\u001b[0m\u001b[1;33m=\u001b[0m\u001b[0mdtype\u001b[0m\u001b[1;33m,\u001b[0m \u001b[1;33m**\u001b[0m\u001b[0mkwargs\u001b[0m\u001b[1;33m)\u001b[0m\u001b[1;33m\u001b[0m\u001b[1;33m\u001b[0m\u001b[0m\n\u001b[0m\u001b[0;32m    582\u001b[0m \u001b[1;33m\u001b[0m\u001b[0m\n\u001b[0;32m    583\u001b[0m     \u001b[1;32mdef\u001b[0m \u001b[0mconvert\u001b[0m\u001b[1;33m(\u001b[0m\u001b[0mself\u001b[0m\u001b[1;33m,\u001b[0m \u001b[1;33m**\u001b[0m\u001b[0mkwargs\u001b[0m\u001b[1;33m)\u001b[0m\u001b[1;33m:\u001b[0m\u001b[1;33m\u001b[0m\u001b[1;33m\u001b[0m\u001b[0m\n",
      "\u001b[1;32m~\\.edm\\envs\\DataScience\\lib\\site-packages\\pandas\\core\\internals\\managers.py\u001b[0m in \u001b[0;36mapply\u001b[1;34m(self, f, axes, filter, do_integrity_check, consolidate, **kwargs)\u001b[0m\n\u001b[0;32m    436\u001b[0m                     \u001b[0mkwargs\u001b[0m\u001b[1;33m[\u001b[0m\u001b[0mk\u001b[0m\u001b[1;33m]\u001b[0m \u001b[1;33m=\u001b[0m \u001b[0mobj\u001b[0m\u001b[1;33m.\u001b[0m\u001b[0mreindex\u001b[0m\u001b[1;33m(\u001b[0m\u001b[0mb_items\u001b[0m\u001b[1;33m,\u001b[0m \u001b[0maxis\u001b[0m\u001b[1;33m=\u001b[0m\u001b[0maxis\u001b[0m\u001b[1;33m,\u001b[0m \u001b[0mcopy\u001b[0m\u001b[1;33m=\u001b[0m\u001b[0malign_copy\u001b[0m\u001b[1;33m)\u001b[0m\u001b[1;33m\u001b[0m\u001b[1;33m\u001b[0m\u001b[0m\n\u001b[0;32m    437\u001b[0m \u001b[1;33m\u001b[0m\u001b[0m\n\u001b[1;32m--> 438\u001b[1;33m             \u001b[0mapplied\u001b[0m \u001b[1;33m=\u001b[0m \u001b[0mgetattr\u001b[0m\u001b[1;33m(\u001b[0m\u001b[0mb\u001b[0m\u001b[1;33m,\u001b[0m \u001b[0mf\u001b[0m\u001b[1;33m)\u001b[0m\u001b[1;33m(\u001b[0m\u001b[1;33m**\u001b[0m\u001b[0mkwargs\u001b[0m\u001b[1;33m)\u001b[0m\u001b[1;33m\u001b[0m\u001b[1;33m\u001b[0m\u001b[0m\n\u001b[0m\u001b[0;32m    439\u001b[0m             \u001b[0mresult_blocks\u001b[0m \u001b[1;33m=\u001b[0m \u001b[0m_extend_blocks\u001b[0m\u001b[1;33m(\u001b[0m\u001b[0mapplied\u001b[0m\u001b[1;33m,\u001b[0m \u001b[0mresult_blocks\u001b[0m\u001b[1;33m)\u001b[0m\u001b[1;33m\u001b[0m\u001b[1;33m\u001b[0m\u001b[0m\n\u001b[0;32m    440\u001b[0m \u001b[1;33m\u001b[0m\u001b[0m\n",
      "\u001b[1;32m~\\.edm\\envs\\DataScience\\lib\\site-packages\\pandas\\core\\internals\\blocks.py\u001b[0m in \u001b[0;36mastype\u001b[1;34m(self, dtype, copy, errors, values, **kwargs)\u001b[0m\n\u001b[0;32m    557\u001b[0m \u001b[1;33m\u001b[0m\u001b[0m\n\u001b[0;32m    558\u001b[0m     \u001b[1;32mdef\u001b[0m \u001b[0mastype\u001b[0m\u001b[1;33m(\u001b[0m\u001b[0mself\u001b[0m\u001b[1;33m,\u001b[0m \u001b[0mdtype\u001b[0m\u001b[1;33m,\u001b[0m \u001b[0mcopy\u001b[0m\u001b[1;33m=\u001b[0m\u001b[1;32mFalse\u001b[0m\u001b[1;33m,\u001b[0m \u001b[0merrors\u001b[0m\u001b[1;33m=\u001b[0m\u001b[1;34m\"raise\"\u001b[0m\u001b[1;33m,\u001b[0m \u001b[0mvalues\u001b[0m\u001b[1;33m=\u001b[0m\u001b[1;32mNone\u001b[0m\u001b[1;33m,\u001b[0m \u001b[1;33m**\u001b[0m\u001b[0mkwargs\u001b[0m\u001b[1;33m)\u001b[0m\u001b[1;33m:\u001b[0m\u001b[1;33m\u001b[0m\u001b[1;33m\u001b[0m\u001b[0m\n\u001b[1;32m--> 559\u001b[1;33m         \u001b[1;32mreturn\u001b[0m \u001b[0mself\u001b[0m\u001b[1;33m.\u001b[0m\u001b[0m_astype\u001b[0m\u001b[1;33m(\u001b[0m\u001b[0mdtype\u001b[0m\u001b[1;33m,\u001b[0m \u001b[0mcopy\u001b[0m\u001b[1;33m=\u001b[0m\u001b[0mcopy\u001b[0m\u001b[1;33m,\u001b[0m \u001b[0merrors\u001b[0m\u001b[1;33m=\u001b[0m\u001b[0merrors\u001b[0m\u001b[1;33m,\u001b[0m \u001b[0mvalues\u001b[0m\u001b[1;33m=\u001b[0m\u001b[0mvalues\u001b[0m\u001b[1;33m,\u001b[0m \u001b[1;33m**\u001b[0m\u001b[0mkwargs\u001b[0m\u001b[1;33m)\u001b[0m\u001b[1;33m\u001b[0m\u001b[1;33m\u001b[0m\u001b[0m\n\u001b[0m\u001b[0;32m    560\u001b[0m \u001b[1;33m\u001b[0m\u001b[0m\n\u001b[0;32m    561\u001b[0m     \u001b[1;32mdef\u001b[0m \u001b[0m_astype\u001b[0m\u001b[1;33m(\u001b[0m\u001b[0mself\u001b[0m\u001b[1;33m,\u001b[0m \u001b[0mdtype\u001b[0m\u001b[1;33m,\u001b[0m \u001b[0mcopy\u001b[0m\u001b[1;33m=\u001b[0m\u001b[1;32mFalse\u001b[0m\u001b[1;33m,\u001b[0m \u001b[0merrors\u001b[0m\u001b[1;33m=\u001b[0m\u001b[1;34m\"raise\"\u001b[0m\u001b[1;33m,\u001b[0m \u001b[0mvalues\u001b[0m\u001b[1;33m=\u001b[0m\u001b[1;32mNone\u001b[0m\u001b[1;33m,\u001b[0m \u001b[1;33m**\u001b[0m\u001b[0mkwargs\u001b[0m\u001b[1;33m)\u001b[0m\u001b[1;33m:\u001b[0m\u001b[1;33m\u001b[0m\u001b[1;33m\u001b[0m\u001b[0m\n",
      "\u001b[1;32m~\\.edm\\envs\\DataScience\\lib\\site-packages\\pandas\\core\\internals\\blocks.py\u001b[0m in \u001b[0;36m_astype\u001b[1;34m(self, dtype, copy, errors, values, **kwargs)\u001b[0m\n\u001b[0;32m    641\u001b[0m                     \u001b[1;31m# _astype_nansafe works fine with 1-d only\u001b[0m\u001b[1;33m\u001b[0m\u001b[1;33m\u001b[0m\u001b[1;33m\u001b[0m\u001b[0m\n\u001b[0;32m    642\u001b[0m                     \u001b[0mvals1d\u001b[0m \u001b[1;33m=\u001b[0m \u001b[0mvalues\u001b[0m\u001b[1;33m.\u001b[0m\u001b[0mravel\u001b[0m\u001b[1;33m(\u001b[0m\u001b[1;33m)\u001b[0m\u001b[1;33m\u001b[0m\u001b[1;33m\u001b[0m\u001b[0m\n\u001b[1;32m--> 643\u001b[1;33m                     \u001b[0mvalues\u001b[0m \u001b[1;33m=\u001b[0m \u001b[0mastype_nansafe\u001b[0m\u001b[1;33m(\u001b[0m\u001b[0mvals1d\u001b[0m\u001b[1;33m,\u001b[0m \u001b[0mdtype\u001b[0m\u001b[1;33m,\u001b[0m \u001b[0mcopy\u001b[0m\u001b[1;33m=\u001b[0m\u001b[1;32mTrue\u001b[0m\u001b[1;33m,\u001b[0m \u001b[1;33m**\u001b[0m\u001b[0mkwargs\u001b[0m\u001b[1;33m)\u001b[0m\u001b[1;33m\u001b[0m\u001b[1;33m\u001b[0m\u001b[0m\n\u001b[0m\u001b[0;32m    644\u001b[0m \u001b[1;33m\u001b[0m\u001b[0m\n\u001b[0;32m    645\u001b[0m                 \u001b[1;31m# TODO(extension)\u001b[0m\u001b[1;33m\u001b[0m\u001b[1;33m\u001b[0m\u001b[1;33m\u001b[0m\u001b[0m\n",
      "\u001b[1;32m~\\.edm\\envs\\DataScience\\lib\\site-packages\\pandas\\core\\dtypes\\cast.py\u001b[0m in \u001b[0;36mastype_nansafe\u001b[1;34m(arr, dtype, copy, skipna)\u001b[0m\n\u001b[0;32m    698\u001b[0m         \u001b[1;32mif\u001b[0m \u001b[1;32mnot\u001b[0m \u001b[0mnp\u001b[0m\u001b[1;33m.\u001b[0m\u001b[0misfinite\u001b[0m\u001b[1;33m(\u001b[0m\u001b[0marr\u001b[0m\u001b[1;33m)\u001b[0m\u001b[1;33m.\u001b[0m\u001b[0mall\u001b[0m\u001b[1;33m(\u001b[0m\u001b[1;33m)\u001b[0m\u001b[1;33m:\u001b[0m\u001b[1;33m\u001b[0m\u001b[1;33m\u001b[0m\u001b[0m\n\u001b[0;32m    699\u001b[0m             raise ValueError(\n\u001b[1;32m--> 700\u001b[1;33m                 \u001b[1;34m\"Cannot convert non-finite values (NA or inf) to \"\u001b[0m \u001b[1;34m\"integer\"\u001b[0m\u001b[1;33m\u001b[0m\u001b[1;33m\u001b[0m\u001b[0m\n\u001b[0m\u001b[0;32m    701\u001b[0m             )\n\u001b[0;32m    702\u001b[0m \u001b[1;33m\u001b[0m\u001b[0m\n",
      "\u001b[1;31mValueError\u001b[0m: Cannot convert non-finite values (NA or inf) to integer"
     ]
    }
   ],
   "source": [
    "carpetasInv[\"ao_hechos\"] = carpetasInv[\"ao_hechos\"].astype(\"int64\")"
   ]
  },
  {
   "cell_type": "code",
   "execution_count": 12,
   "metadata": {},
   "outputs": [
    {
     "output_type": "execute_result",
     "data": {
      "text/plain": [
       "ao_hechos                      float64\n",
       "mes_hechos                      object\n",
       "fecha_hechos            datetime64[ns]\n",
       "ao_inicio                        int64\n",
       "mes_inicio                      object\n",
       "fecha_inicio            datetime64[ns]\n",
       "delito                          object\n",
       "fiscalia                        object\n",
       "agencia                         object\n",
       "unidad_investigacion            object\n",
       "categoria_delito                object\n",
       "calle_hechos                    object\n",
       "calle_hechos2                   object\n",
       "colonia_hechos                  object\n",
       "alcaldia_hechos                 object\n",
       "competencia                     object\n",
       "longitud                       float64\n",
       "latitud                        float64\n",
       "tempo                          float64\n",
       "dtype: object"
      ]
     },
     "metadata": {},
     "execution_count": 12
    }
   ],
   "source": [
    "carpetasInv.dtypes"
   ]
  },
  {
   "cell_type": "code",
   "execution_count": 13,
   "metadata": {},
   "outputs": [
    {
     "output_type": "execute_result",
     "data": {
      "text/plain": [
       "          ao_hechos     ao_inicio      longitud       latitud  tempo\n",
       "count  1.207924e+06  1.208358e+06  1.160094e+06  1.160094e+06    0.0\n",
       "mean   2.018058e+03  2.018208e+03 -9.913726e+01  1.938740e+01    NaN\n",
       "std    1.796765e+00  1.490822e+00  5.981416e-02  6.979977e-02    NaN\n",
       "min    1.906000e+03  2.016000e+03 -1.002319e+02  1.909535e+01    NaN\n",
       "25%    2.017000e+03  2.017000e+03 -9.917557e+01  1.933991e+01    NaN\n",
       "50%    2.018000e+03  2.018000e+03 -9.914215e+01  1.938993e+01    NaN\n",
       "75%    2.019000e+03  2.019000e+03 -9.909990e+01  1.943770e+01    NaN\n",
       "max    2.021000e+03  2.021000e+03 -9.894686e+01  1.958333e+01    NaN"
      ],
      "text/html": "<div>\n<style scoped>\n    .dataframe tbody tr th:only-of-type {\n        vertical-align: middle;\n    }\n\n    .dataframe tbody tr th {\n        vertical-align: top;\n    }\n\n    .dataframe thead th {\n        text-align: right;\n    }\n</style>\n<table border=\"1\" class=\"dataframe\">\n  <thead>\n    <tr style=\"text-align: right;\">\n      <th></th>\n      <th>ao_hechos</th>\n      <th>ao_inicio</th>\n      <th>longitud</th>\n      <th>latitud</th>\n      <th>tempo</th>\n    </tr>\n  </thead>\n  <tbody>\n    <tr>\n      <th>count</th>\n      <td>1.207924e+06</td>\n      <td>1.208358e+06</td>\n      <td>1.160094e+06</td>\n      <td>1.160094e+06</td>\n      <td>0.0</td>\n    </tr>\n    <tr>\n      <th>mean</th>\n      <td>2.018058e+03</td>\n      <td>2.018208e+03</td>\n      <td>-9.913726e+01</td>\n      <td>1.938740e+01</td>\n      <td>NaN</td>\n    </tr>\n    <tr>\n      <th>std</th>\n      <td>1.796765e+00</td>\n      <td>1.490822e+00</td>\n      <td>5.981416e-02</td>\n      <td>6.979977e-02</td>\n      <td>NaN</td>\n    </tr>\n    <tr>\n      <th>min</th>\n      <td>1.906000e+03</td>\n      <td>2.016000e+03</td>\n      <td>-1.002319e+02</td>\n      <td>1.909535e+01</td>\n      <td>NaN</td>\n    </tr>\n    <tr>\n      <th>25%</th>\n      <td>2.017000e+03</td>\n      <td>2.017000e+03</td>\n      <td>-9.917557e+01</td>\n      <td>1.933991e+01</td>\n      <td>NaN</td>\n    </tr>\n    <tr>\n      <th>50%</th>\n      <td>2.018000e+03</td>\n      <td>2.018000e+03</td>\n      <td>-9.914215e+01</td>\n      <td>1.938993e+01</td>\n      <td>NaN</td>\n    </tr>\n    <tr>\n      <th>75%</th>\n      <td>2.019000e+03</td>\n      <td>2.019000e+03</td>\n      <td>-9.909990e+01</td>\n      <td>1.943770e+01</td>\n      <td>NaN</td>\n    </tr>\n    <tr>\n      <th>max</th>\n      <td>2.021000e+03</td>\n      <td>2.021000e+03</td>\n      <td>-9.894686e+01</td>\n      <td>1.958333e+01</td>\n      <td>NaN</td>\n    </tr>\n  </tbody>\n</table>\n</div>"
     },
     "metadata": {},
     "execution_count": 13
    }
   ],
   "source": [
    "carpetasInv.describe()"
   ]
  },
  {
   "source": [
    "## 2. ¿Cuántos delitos registrados hay en la tabla? ¿Qué rango de tiempo consideran los datos?"
   ],
   "cell_type": "markdown",
   "metadata": {}
  },
  {
   "source": [
    "- Hay 208358 delitos registrados (sin verificar si existen delitos publicados)\n",
    "- Con respecto a la fecha de inicio de la carpeta de investigación, los rangos de años van del 2016 al 2021\n",
    "- Con respecto a la fecha de los hechos, los rangos de años van de 1906 al 2021"
   ],
   "cell_type": "markdown",
   "metadata": {}
  },
  {
   "cell_type": "code",
   "execution_count": 14,
   "metadata": {},
   "outputs": [
    {
     "output_type": "stream",
     "name": "stdout",
     "text": [
      "1906.0\n2021.0\n"
     ]
    }
   ],
   "source": [
    "print(carpetasInv[\"ao_hechos\"].min())\n",
    "print(carpetasInv[\"ao_hechos\"].max())"
   ]
  },
  {
   "cell_type": "code",
   "execution_count": 15,
   "metadata": {},
   "outputs": [
    {
     "output_type": "stream",
     "name": "stdout",
     "text": [
      "2016\n2021\n"
     ]
    }
   ],
   "source": [
    "print(carpetasInv[\"ao_inicio\"].min())\n",
    "print(carpetasInv[\"ao_inicio\"].max())"
   ]
  },
  {
   "source": [
    "## 3. ¿Cómo se distribuye el número de delitos en la CDMX? ¿Cuáles son los 5 delitos más frecuentes?"
   ],
   "cell_type": "markdown",
   "metadata": {}
  },
  {
   "source": [
    "Tomando en cuenta TODAS las carpetas de investigación de la FGJ de la Ciudad de México, los 5 delitos más frecuentes en la ciudad de méxico son:\n",
    "DELITO DE BAJO IMPACTO, ROBO A TRANSEUNTE EN VÍA PÚBLICA CON Y SIN VIOLENCIA, ROBO DE VEHÍCULO CON Y SIN VIOLENCIA, ROBO A NEGOCIO CON VIOLENCIA y ROBO A NEGOCIO CON VIOLENCIA. No se menciona en esta lista la categoría \"HECHO NO DELICTIVO\", puesto que no representa un delito. Si se quisiese tomar en cuenta, esta categoría estaría en 4to lugar. Ver la lista completa de delitos abajo.\n",
    "\n",
    "Sin embargo, si se quisiese limitar el estudio a los delitos que se llevaron a cabo en la CDMX, habría que filtrar los datos de acuerdo a este criterio (usando el campo \"alcaldia_hechos\")."
   ],
   "cell_type": "markdown",
   "metadata": {}
  },
  {
   "cell_type": "code",
   "execution_count": 16,
   "metadata": {},
   "outputs": [
    {
     "output_type": "stream",
     "name": "stdout",
     "text": [
      "DELITO DE BAJO IMPACTO                                     941573\nROBO A TRANSEUNTE EN VÍA PÚBLICA CON Y SIN VIOLENCIA        68904\nROBO DE VEHÍCULO CON Y SIN VIOLENCIA                        64381\nHECHO NO DELICTIVO                                          56177\nROBO A NEGOCIO CON VIOLENCIA                                20034\nROBO A REPARTIDOR CON Y SIN VIOLENCIA                       12555\nROBO A PASAJERO A BORDO DEL METRO CON Y SIN VIOLENCIA       11060\nLESIONES DOLOSAS POR DISPARO DE ARMA DE FUEGO                8919\nHOMICIDIO DOLOSO                                             6975\nVIOLACIÓN                                                    6292\nROBO A PASAJERO A BORDO DE MICROBUS CON Y SIN VIOLENCIA      4100\nROBO A CASA HABITACIÓN CON VIOLENCIA                         3072\nROBO A CUENTAHABIENTE SALIENDO DEL CAJERO CON VIOLENCIA      2284\nROBO A PASAJERO A BORDO DE TAXI CON VIOLENCIA                1187\nROBO A TRANSPORTISTA CON Y SIN VIOLENCIA                      658\nSECUESTRO                                                     184\nFEMINICIDIO                                                     2\nPLAGIO O SECUESTRO                                              1\nName: categoria_delito, dtype: int64\n"
     ]
    }
   ],
   "source": [
    "print(carpetasInv[\"categoria_delito\"].value_counts())"
   ]
  },
  {
   "cell_type": "code",
   "execution_count": 17,
   "metadata": {},
   "outputs": [
    {
     "output_type": "execute_result",
     "data": {
      "text/plain": [
       "['BENITO JUAREZ',\n",
       " 'IZTAPALAPA',\n",
       " 'CUAUHTEMOC',\n",
       " 'TLAHUAC',\n",
       " 'IZTACALCO',\n",
       " 'GUSTAVO A MADERO',\n",
       " 'MIGUEL HIDALGO',\n",
       " 'TLALPAN',\n",
       " 'ALVARO OBREGON',\n",
       " 'VENUSTIANO CARRANZA',\n",
       " 'AZCAPOTZALCO',\n",
       " 'CUAJIMALPA DE MORELOS',\n",
       " 'COYOACAN',\n",
       " 'XOCHIMILCO',\n",
       " 'LA MAGDALENA CONTRERAS',\n",
       " 'MILPA ALTA']"
      ]
     },
     "metadata": {},
     "execution_count": 17
    }
   ],
   "source": [
    "\n",
    "#Previamente identifiqué que la columna alcaldía estaba limpia y no tenía duplicados, y que además los primero registros correspondían a los valores de las alcaldías de la CDMX\n",
    "alcaldias = carpetasInv[\"alcaldia_hechos\"].unique().tolist()\n",
    "alcaldias = alcaldias[0:16]\n",
    "alcaldias"
   ]
  },
  {
   "cell_type": "code",
   "execution_count": null,
   "metadata": {},
   "outputs": [],
   "source": []
  },
  {
   "source": [
    "## 4. Identifica los delitos que van a la alza y a la baja en la CDMX en el último año (ten cuidado con los delitos con pocas ocurrencias)."
   ],
   "cell_type": "markdown",
   "metadata": {}
  },
  {
   "cell_type": "code",
   "execution_count": null,
   "metadata": {},
   "outputs": [],
   "source": []
  },
  {
   "source": [
    "## 5. ¿Cuál es la alcaldía que más delitos tiene y cuál es la que menos?. ¿Por qué crees que sea esto?"
   ],
   "cell_type": "markdown",
   "metadata": {}
  },
  {
   "source": [
    "- Tomando en cuenta solamente las alcaldías de la CDMX (es decir, sin tomar en cuenta los delitos que se comenten fuera de la CDMX), la alcaldía con más delitos es la Cuauhtemoc, mientras que la alcaldía con menos delitos es Milpa Alta. Este resultado se da asumiendo que un \"delito\" corresponde a una carpeta de investigación (un regitro en nuestros datos). Podrían retirarse los registros con la categoría \"HECHO NO DELICTIVO\", asumiendo que estos no son un \"delito\", y así obtener un resultado con esta connotación o interpretación sobre lo que entendemos como \"delito\" en el contexto de este estudio.\n",
    "- La primer hipótesis que se me ocurre para explicar porqué Cuahtemoc es la alcaldía con mayor número de delitos (y Milpa Alta la que tiene menor número de delitos), es la cantidad de habitantes. Supongo que Cuauhtemoc tiene mas habitantes y Milpa Alta menos. Por eso sería importante normalizar este número en función de los habitantes de cada alcaldía."
   ],
   "cell_type": "markdown",
   "metadata": {}
  },
  {
   "cell_type": "code",
   "execution_count": 18,
   "metadata": {},
   "outputs": [
    {
     "output_type": "execute_result",
     "data": {
      "text/plain": [
       "NAUCALPAN DE JUAREZ          687\n",
       "ECATEPEC DE MORELOS          909\n",
       "TLALNEPANTLA DE BAZ          981\n",
       "NEZAHUALCOYOTL              1278\n",
       "MILPA ALTA                  8533\n",
       "CUAJIMALPA DE MORELOS      17813\n",
       "LA MAGDALENA CONTRERAS     19719\n",
       "TLAHUAC                    29437\n",
       "XOCHIMILCO                 37878\n",
       "IZTACALCO                  50303\n",
       "AZCAPOTZALCO               58738\n",
       "VENUSTIANO CARRANZA        69565\n",
       "TLALPAN                    70727\n",
       "MIGUEL HIDALGO             78692\n",
       "COYOACAN                   80618\n",
       "ALVARO OBREGON             82051\n",
       "BENITO JUAREZ             100539\n",
       "GUSTAVO A MADERO          121166\n",
       "IZTAPALAPA                181818\n",
       "CUAUHTEMOC                188304\n",
       "Name: alcaldia_hechos, dtype: int64"
      ]
     },
     "metadata": {},
     "execution_count": 18
    }
   ],
   "source": [
    "carpetasInv[\"alcaldia_hechos\"].value_counts().sort_values().tail(20)"
   ]
  },
  {
   "source": [
    "## 6. Dentro de cada alcaldía, cuáles son las tres colonias con más delitos"
   ],
   "cell_type": "markdown",
   "metadata": {}
  },
  {
   "cell_type": "code",
   "execution_count": null,
   "metadata": {},
   "outputs": [],
   "source": []
  },
  {
   "cell_type": "code",
   "execution_count": 19,
   "metadata": {},
   "outputs": [],
   "source": [
    "alcaldia_colonias = carpetasInv[[\"alcaldia_hechos\",\"colonia_hechos\"]]\n",
    "#alcaldia_colonias[\"alcaldia_hechos\",\"colonia_hechox\"].value_counts()\n",
    "alc_col_grp = alcaldia_colonias.groupby([\"alcaldia_hechos\"], as_index = False)"
   ]
  },
  {
   "cell_type": "code",
   "execution_count": 20,
   "metadata": {},
   "outputs": [
    {
     "output_type": "error",
     "ename": "AttributeError",
     "evalue": "Cannot access callable attribute 'pivot' of 'DataFrameGroupBy' objects, try using the 'apply' method",
     "traceback": [
      "\u001b[1;31m---------------------------------------------------------------------------\u001b[0m",
      "\u001b[1;31mAttributeError\u001b[0m                            Traceback (most recent call last)",
      "\u001b[1;32m<ipython-input-20-887dda98fc31>\u001b[0m in \u001b[0;36m<module>\u001b[1;34m\u001b[0m\n\u001b[0;32m      1\u001b[0m \u001b[1;31m#alcaldia_colonias\u001b[0m\u001b[1;33m\u001b[0m\u001b[1;33m\u001b[0m\u001b[1;33m\u001b[0m\u001b[0m\n\u001b[1;32m----> 2\u001b[1;33m \u001b[0malc_pivot\u001b[0m \u001b[1;33m=\u001b[0m \u001b[0malc_col_grp\u001b[0m\u001b[1;33m.\u001b[0m\u001b[0mpivot\u001b[0m\u001b[1;33m(\u001b[0m\u001b[0mindex\u001b[0m\u001b[1;33m=\u001b[0m\u001b[1;34m\"alcaldia_hechos\"\u001b[0m\u001b[1;33m,\u001b[0m \u001b[0mcolumns\u001b[0m\u001b[1;33m=\u001b[0m\u001b[1;34m\"colonia_hechos\"\u001b[0m\u001b[1;33m)\u001b[0m\u001b[1;33m\u001b[0m\u001b[1;33m\u001b[0m\u001b[0m\n\u001b[0m",
      "\u001b[1;32m~\\.edm\\envs\\DataScience\\lib\\site-packages\\pandas\\core\\groupby\\groupby.py\u001b[0m in \u001b[0;36m__getattr__\u001b[1;34m(self, attr)\u001b[0m\n\u001b[0;32m    561\u001b[0m             \u001b[1;32mreturn\u001b[0m \u001b[0mself\u001b[0m\u001b[1;33m[\u001b[0m\u001b[0mattr\u001b[0m\u001b[1;33m]\u001b[0m\u001b[1;33m\u001b[0m\u001b[1;33m\u001b[0m\u001b[0m\n\u001b[0;32m    562\u001b[0m         \u001b[1;32mif\u001b[0m \u001b[0mhasattr\u001b[0m\u001b[1;33m(\u001b[0m\u001b[0mself\u001b[0m\u001b[1;33m.\u001b[0m\u001b[0mobj\u001b[0m\u001b[1;33m,\u001b[0m \u001b[0mattr\u001b[0m\u001b[1;33m)\u001b[0m\u001b[1;33m:\u001b[0m\u001b[1;33m\u001b[0m\u001b[1;33m\u001b[0m\u001b[0m\n\u001b[1;32m--> 563\u001b[1;33m             \u001b[1;32mreturn\u001b[0m \u001b[0mself\u001b[0m\u001b[1;33m.\u001b[0m\u001b[0m_make_wrapper\u001b[0m\u001b[1;33m(\u001b[0m\u001b[0mattr\u001b[0m\u001b[1;33m)\u001b[0m\u001b[1;33m\u001b[0m\u001b[1;33m\u001b[0m\u001b[0m\n\u001b[0m\u001b[0;32m    564\u001b[0m \u001b[1;33m\u001b[0m\u001b[0m\n\u001b[0;32m    565\u001b[0m         raise AttributeError(\n",
      "\u001b[1;32m~\\.edm\\envs\\DataScience\\lib\\site-packages\\pandas\\core\\groupby\\groupby.py\u001b[0m in \u001b[0;36m_make_wrapper\u001b[1;34m(self, name)\u001b[0m\n\u001b[0;32m    602\u001b[0m                 \u001b[1;34m\"using the 'apply' method\"\u001b[0m\u001b[1;33m.\u001b[0m\u001b[0mformat\u001b[0m\u001b[1;33m(\u001b[0m\u001b[0mkind\u001b[0m\u001b[1;33m,\u001b[0m \u001b[0mname\u001b[0m\u001b[1;33m,\u001b[0m \u001b[0mtype\u001b[0m\u001b[1;33m(\u001b[0m\u001b[0mself\u001b[0m\u001b[1;33m)\u001b[0m\u001b[1;33m.\u001b[0m\u001b[0m__name__\u001b[0m\u001b[1;33m)\u001b[0m\u001b[1;33m\u001b[0m\u001b[1;33m\u001b[0m\u001b[0m\n\u001b[0;32m    603\u001b[0m             )\n\u001b[1;32m--> 604\u001b[1;33m             \u001b[1;32mraise\u001b[0m \u001b[0mAttributeError\u001b[0m\u001b[1;33m(\u001b[0m\u001b[0mmsg\u001b[0m\u001b[1;33m)\u001b[0m\u001b[1;33m\u001b[0m\u001b[1;33m\u001b[0m\u001b[0m\n\u001b[0m\u001b[0;32m    605\u001b[0m \u001b[1;33m\u001b[0m\u001b[0m\n\u001b[0;32m    606\u001b[0m         \u001b[0mself\u001b[0m\u001b[1;33m.\u001b[0m\u001b[0m_set_group_selection\u001b[0m\u001b[1;33m(\u001b[0m\u001b[1;33m)\u001b[0m\u001b[1;33m\u001b[0m\u001b[1;33m\u001b[0m\u001b[0m\n",
      "\u001b[1;31mAttributeError\u001b[0m: Cannot access callable attribute 'pivot' of 'DataFrameGroupBy' objects, try using the 'apply' method"
     ]
    }
   ],
   "source": [
    "#alcaldia_colonias\n",
    "alc_pivot = alc_col_grp.pivot(index=\"alcaldia_hechos\", columns=\"colonia_hechos\")"
   ]
  },
  {
   "source": [
    "## 7. ¿Existe alguna tendencia estacional en la ocurrencia de delitos (mes, semana, día de la semana, quincenas)?"
   ],
   "cell_type": "markdown",
   "metadata": {}
  },
  {
   "cell_type": "code",
   "execution_count": null,
   "metadata": {},
   "outputs": [],
   "source": [
    "Para responder esta pregunta, se tomarán como referencia las fechas en que se realizaron los delitos."
   ]
  },
  {
   "cell_type": "code",
   "execution_count": 31,
   "metadata": {},
   "outputs": [
    {
     "output_type": "stream",
     "name": "stdout",
     "text": [
      "Enero         110337\nFebrero       108993\nMarzo         116872\nAbril         102994\nMayo           94711\nJunio          91689\nJulio          93623\nAgosto         98433\nSeptiembre     96399\nOctubre       102848\nNoviembre      97155\nDiciembre      93870\nName: mes_hechos, dtype: int64\n"
     ]
    }
   ],
   "source": [
    "meses_ordenados = [\"Enero\", \"Febrero\", \"Marzo\", \"Abril\", \"Mayo\",\"Junio\",\"Julio\",\"Agosto\",\"Septiembre\",\"Octubre\",\"Noviembre\",\"Diciembre\"]\n",
    "del_x_mes = carpetasInv[\"mes_hechos\"].value_counts()[meses_ordenados]\n",
    "print(del_x_mes)"
   ]
  },
  {
   "cell_type": "code",
   "execution_count": 32,
   "metadata": {},
   "outputs": [
    {
     "output_type": "error",
     "ename": "AttributeError",
     "evalue": "module 'matplotlib' has no attribute 'scatter'",
     "traceback": [
      "\u001b[1;31m---------------------------------------------------------------------------\u001b[0m",
      "\u001b[1;31mAttributeError\u001b[0m                            Traceback (most recent call last)",
      "\u001b[1;32m<ipython-input-32-8f54b89a95b7>\u001b[0m in \u001b[0;36m<module>\u001b[1;34m\u001b[0m\n\u001b[0;32m      1\u001b[0m \u001b[1;31m#plt.scatter(meses_ordenados,del_x_mes)\u001b[0m\u001b[1;33m\u001b[0m\u001b[1;33m\u001b[0m\u001b[1;33m\u001b[0m\u001b[0m\n\u001b[1;32m----> 2\u001b[1;33m \u001b[0mplt\u001b[0m\u001b[1;33m.\u001b[0m\u001b[0mscatter\u001b[0m\u001b[1;33m(\u001b[0m\u001b[0mdel_x_mes\u001b[0m\u001b[1;33m)\u001b[0m\u001b[1;33m\u001b[0m\u001b[1;33m\u001b[0m\u001b[0m\n\u001b[0m",
      "\u001b[1;31mAttributeError\u001b[0m: module 'matplotlib' has no attribute 'scatter'"
     ]
    }
   ],
   "source": [
    "#plt.scatter(meses_ordenados,del_x_mes)\n",
    "plt.scatter(del_x_mes)"
   ]
  },
  {
   "cell_type": "code",
   "execution_count": 33,
   "metadata": {},
   "outputs": [
    {
     "output_type": "stream",
     "name": "stdout",
     "text": [
      "Enero         108090\nFebrero       108525\nMarzo         119572\nAbril         107681\nMayo           92288\nJunio          91212\nJulio          94483\nAgosto         98722\nSeptiembre     95365\nOctubre       103731\nNoviembre      96344\nDiciembre      92345\nName: mes_inicio, dtype: int64\n"
     ]
    }
   ],
   "source": [
    "del_x_mes_ini = carpetasInv[\"mes_inicio\"].value_counts()[meses_ordenados]\n",
    "print(del_x_mes_ini)"
   ]
  },
  {
   "cell_type": "code",
   "execution_count": null,
   "metadata": {},
   "outputs": [],
   "source": [
    "delitos_ts = "
   ]
  },
  {
   "cell_type": "code",
   "execution_count": null,
   "metadata": {},
   "outputs": [],
   "source": []
  },
  {
   "source": [
    "## 8. ¿Cuáles son los delitos que más caracterizan a cada alcaldía? Es decir, delitos que suceden con mayor frecuencia en una alcaldía y con menor frecuencia en las demás."
   ],
   "cell_type": "markdown",
   "metadata": {}
  },
  {
   "cell_type": "code",
   "execution_count": null,
   "metadata": {},
   "outputs": [],
   "source": []
  },
  {
   "cell_type": "code",
   "execution_count": null,
   "metadata": {},
   "outputs": [],
   "source": []
  },
  {
   "cell_type": "code",
   "execution_count": null,
   "metadata": {},
   "outputs": [],
   "source": []
  },
  {
   "source": [
    "## 9. Calcula el número de homicidios dolosos por cada 100 mil habitantes anual para cada Área Geoestadística Básica (AGEB) del INEGI. (hint: no importa que el dato de población no esté actualizado)."
   ],
   "cell_type": "markdown",
   "metadata": {}
  },
  {
   "cell_type": "code",
   "execution_count": null,
   "metadata": {},
   "outputs": [],
   "source": []
  },
  {
   "source": [
    "## 9.1. Pinta un mapa con este indicador. Describe los resultados."
   ],
   "cell_type": "markdown",
   "metadata": {}
  },
  {
   "cell_type": "code",
   "execution_count": null,
   "metadata": {},
   "outputs": [],
   "source": []
  },
  {
   "source": [
    "## 10. ¿Cómo diseñarías un indicador que midiera el nivel “inseguridad”? Diséñalo al nivel de desagregación que te parezca más adecuado (ej. manzana, calle, AGEB, etc.)."
   ],
   "cell_type": "markdown",
   "metadata": {}
  },
  {
   "cell_type": "code",
   "execution_count": null,
   "metadata": {},
   "outputs": [],
   "source": []
  },
  {
   "source": [
    "## 11. Con alguna de las medidas de crimen que calculaste en los incisos anteriores, encuentra patrones de concentración geográfica de delitos (hint: puedes usar algoritmos de Machine Learning no supervisados)."
   ],
   "cell_type": "markdown",
   "metadata": {}
  },
  {
   "cell_type": "code",
   "execution_count": null,
   "metadata": {},
   "outputs": [],
   "source": []
  },
  {
   "source": [
    "## 11.1. ¿Qué caracteriza a cada punto de concentración de delitos y qué tienen en común?"
   ],
   "cell_type": "markdown",
   "metadata": {}
  },
  {
   "cell_type": "code",
   "execution_count": null,
   "metadata": {},
   "outputs": [],
   "source": []
  },
  {
   "source": [
    "## 12. Toma los delitos clasificados como “Robo a pasajero a bordo de transporte público con y sin violencia”. ¿Cuáles son las rutas de transporte público donde más ocurren estos delitos?"
   ],
   "cell_type": "markdown",
   "metadata": {}
  },
  {
   "cell_type": "code",
   "execution_count": null,
   "metadata": {},
   "outputs": [],
   "source": []
  },
  {
   "cell_type": "code",
   "execution_count": null,
   "metadata": {},
   "outputs": [],
   "source": []
  },
  {
   "cell_type": "code",
   "execution_count": null,
   "metadata": {},
   "outputs": [],
   "source": []
  },
  {
   "cell_type": "code",
   "execution_count": null,
   "metadata": {},
   "outputs": [],
   "source": []
  }
 ]
}