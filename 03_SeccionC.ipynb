{
 "metadata": {
  "language_info": {
   "codemirror_mode": {
    "name": "ipython",
    "version": 3
   },
   "file_extension": ".py",
   "mimetype": "text/x-python",
   "name": "python",
   "nbconvert_exporter": "python",
   "pygments_lexer": "ipython3",
   "version": "3.6.13"
  },
  "orig_nbformat": 4,
  "kernelspec": {
   "name": "python3",
   "display_name": "Python 3.6.13 64-bit"
  },
  "interpreter": {
   "hash": "26a716618ec01ce43a4d5d8e19bd7fd65e1036c0e8f7dfd38cf9904a6ff8fbff"
  }
 },
 "nbformat": 4,
 "nbformat_minor": 2,
 "cells": [
  {
   "source": [
    "# Sección C - BOPS"
   ],
   "cell_type": "markdown",
   "metadata": {}
  },
  {
   "cell_type": "code",
   "execution_count": null,
   "metadata": {},
   "outputs": [],
   "source": []
  },
  {
   "source": [
    "### Carga y limpieza de los datos (parte de la limpieza se hizo directamente en el archivo CSV)"
   ],
   "cell_type": "markdown",
   "metadata": {}
  },
  {
   "cell_type": "code",
   "execution_count": 12,
   "metadata": {},
   "outputs": [],
   "source": [
    "import pandas as pd\n",
    "import numpy as np\n",
    "import matplotlib as plt"
   ]
  },
  {
   "cell_type": "code",
   "execution_count": 13,
   "metadata": {},
   "outputs": [],
   "source": [
    "online = pd.read_csv(\"Data/bops_online.csv\")"
   ]
  },
  {
   "cell_type": "code",
   "execution_count": 14,
   "metadata": {},
   "outputs": [
    {
     "output_type": "stream",
     "name": "stdout",
     "text": [
      "   id (DMA)  year  month  week  after  close   sales\n0         1  2011      4    17      0      1  18,564\n1         1  2011      4    18      0      1  30,883\n2         1  2011      5    19      0      1  37,425\n3         1  2011      5    20      0      1  32,563\n4         1  2011      5    21      0      1  35,773\n       id (DMA)  year  month  week  after  close  sales\n10705       210  2012      2    10      1      0  9,357\n10706       210  2012      3    11      1      0  3,013\n10707       210  2012      3    12      1      0  3,155\n10708       210  2012      3    13      1      0  2,925\n10709       210  2012      3    14      1      0  3,701\n"
     ]
    }
   ],
   "source": [
    "print(online.head())\n",
    "print(online.tail())"
   ]
  },
  {
   "cell_type": "code",
   "execution_count": 15,
   "metadata": {},
   "outputs": [
    {
     "output_type": "stream",
     "name": "stdout",
     "text": [
      "id (DMA)     int64\nyear         int64\nmonth        int64\nweek         int64\nafter        int64\nclose        int64\nsales       object\ndtype: object\n           id (DMA)          year         month         week         after  \\\ncount  10710.000000  10710.000000  10710.000000  10710.00000  10710.000000   \nmean     105.500000   2011.274510      6.450980     27.45098      0.490196   \nstd       60.623921      0.446288      3.533278     15.42074      0.499927   \nmin        1.000000   2011.000000      1.000000      1.00000      0.000000   \n25%       53.000000   2011.000000      3.000000     13.00000      0.000000   \n50%      105.500000   2011.000000      7.000000     28.00000      0.000000   \n75%      158.000000   2012.000000     10.000000     41.00000      1.000000   \nmax      210.000000   2012.000000     12.000000     53.00000      1.000000   \n\n              close  \ncount  10710.000000  \nmean       0.480952  \nstd        0.499660  \nmin        0.000000  \n25%        0.000000  \n50%        0.000000  \n75%        1.000000  \nmax        1.000000  \n"
     ]
    }
   ],
   "source": [
    "print(online.dtypes)\r\n",
    "print(online.describe())"
   ]
  },
  {
   "cell_type": "code",
   "execution_count": 16,
   "metadata": {},
   "outputs": [],
   "source": [
    "# Limpiando y corrigiendo el tipo de dato\n",
    "online[\"sales\"] = online[\"sales\"].str.replace(',','')\n",
    "online[\"sales\"] = online[\"sales\"].astype(\"float64\")\n"
   ]
  },
  {
   "cell_type": "code",
   "execution_count": 17,
   "metadata": {},
   "outputs": [
    {
     "output_type": "stream",
     "name": "stdout",
     "text": [
      "id (DMA)      int64\n",
      "year          int64\n",
      "month         int64\n",
      "week          int64\n",
      "after         int64\n",
      "close         int64\n",
      "sales       float64\n",
      "dtype: object\n",
      "           id (DMA)          year         month         week         after  \\\n",
      "count  10710.000000  10710.000000  10710.000000  10710.00000  10710.000000   \n",
      "mean     105.500000   2011.274510      6.450980     27.45098      0.490196   \n",
      "std       60.623921      0.446288      3.533278     15.42074      0.499927   \n",
      "min        1.000000   2011.000000      1.000000      1.00000      0.000000   \n",
      "25%       53.000000   2011.000000      3.000000     13.00000      0.000000   \n",
      "50%      105.500000   2011.000000      7.000000     28.00000      0.000000   \n",
      "75%      158.000000   2012.000000     10.000000     41.00000      1.000000   \n",
      "max      210.000000   2012.000000     12.000000     53.00000      1.000000   \n",
      "\n",
      "              close          sales  \n",
      "count  10710.000000   10710.000000  \n",
      "mean       0.480952   13755.704855  \n",
      "std        0.499660   22411.737794  \n",
      "min        0.000000      63.000000  \n",
      "25%        0.000000    1144.000000  \n",
      "50%        0.000000    5567.500000  \n",
      "75%        1.000000   17185.750000  \n",
      "max        1.000000  319233.000000  \n"
     ]
    }
   ],
   "source": [
    "print(online.dtypes)\n",
    "print(online.describe())"
   ]
  },
  {
   "cell_type": "code",
   "execution_count": 18,
   "metadata": {},
   "outputs": [],
   "source": [
    "bm = pd.read_csv(\"Data/bops_bm.csv\")"
   ]
  },
  {
   "cell_type": "code",
   "execution_count": 19,
   "metadata": {},
   "outputs": [
    {
     "output_type": "stream",
     "name": "stdout",
     "text": [
      "   id (store)  year  month  week  usa  after    sales\n0           1  2011      4    16    0      0  118,691\n1           1  2011      4    17    0      0  113,804\n2           1  2011      4    18    0      0  172,104\n3           1  2011      5    19    0      0  105,591\n4           1  2011      5    20    0      0   94,884\n      id (store)  year  month  week  usa  after   sales\n4531         169  2012      3    12    1      1  56,331\n4532         169  2012      3    13    1      1  74,388\n4533         169  2012      3    14    1      1  67,671\n4534         169  2012      4    15    1      1  50,140\n4535         169  2012      4    16    1      1  75,023\n"
     ]
    }
   ],
   "source": [
    "print(bm.head())\n",
    "print(bm.tail())"
   ]
  },
  {
   "cell_type": "code",
   "execution_count": 20,
   "metadata": {},
   "outputs": [
    {
     "output_type": "stream",
     "name": "stdout",
     "text": [
      "id (store)     int64\n",
      "year           int64\n",
      "month          int64\n",
      "week           int64\n",
      "usa            int64\n",
      "after          int64\n",
      "sales         object\n",
      "dtype: object\n",
      "        id (store)         year        month         week          usa  \\\n",
      "count  4536.000000  4536.000000  4536.000000  4536.000000  4536.000000   \n",
      "mean     84.738095  2011.296296     6.314815    26.796296     0.797619   \n",
      "std      49.434118     0.456674     3.479549    15.228823     0.401819   \n",
      "min       1.000000  2011.000000     1.000000     1.000000     0.000000   \n",
      "25%      42.500000  2011.000000     3.000000    14.000000     1.000000   \n",
      "50%      84.000000  2011.000000     6.000000    26.500000     1.000000   \n",
      "75%     127.500000  2012.000000     9.000000    40.000000     1.000000   \n",
      "max     169.000000  2012.000000    12.000000    53.000000     1.000000   \n",
      "\n",
      "             after  \n",
      "count  4536.000000  \n",
      "mean      0.500000  \n",
      "std       0.500055  \n",
      "min       0.000000  \n",
      "25%       0.000000  \n",
      "50%       0.500000  \n",
      "75%       1.000000  \n",
      "max       1.000000  \n"
     ]
    }
   ],
   "source": [
    "print(bm.dtypes)\n",
    "print(bm.describe())"
   ]
  },
  {
   "cell_type": "code",
   "execution_count": 21,
   "metadata": {},
   "outputs": [],
   "source": [
    "# Limpiando y corrigiendo el tipo de dato\n",
    "bm[\"sales\"] = bm[\"sales\"].str.replace(',','')\n",
    "bm[\"sales\"] = bm[\"sales\"].astype(\"float64\")"
   ]
  },
  {
   "cell_type": "code",
   "execution_count": 22,
   "metadata": {},
   "outputs": [
    {
     "output_type": "stream",
     "name": "stdout",
     "text": [
      "id (store)      int64\n",
      "year            int64\n",
      "month           int64\n",
      "week            int64\n",
      "usa             int64\n",
      "after           int64\n",
      "sales         float64\n",
      "dtype: object\n",
      "        id (store)         year        month         week          usa  \\\n",
      "count  4536.000000  4536.000000  4536.000000  4536.000000  4536.000000   \n",
      "mean     84.738095  2011.296296     6.314815    26.796296     0.797619   \n",
      "std      49.434118     0.456674     3.479549    15.228823     0.401819   \n",
      "min       1.000000  2011.000000     1.000000     1.000000     0.000000   \n",
      "25%      42.500000  2011.000000     3.000000    14.000000     1.000000   \n",
      "50%      84.000000  2011.000000     6.000000    26.500000     1.000000   \n",
      "75%     127.500000  2012.000000     9.000000    40.000000     1.000000   \n",
      "max     169.000000  2012.000000    12.000000    53.000000     1.000000   \n",
      "\n",
      "             after          sales  \n",
      "count  4536.000000    4536.000000  \n",
      "mean      0.500000   63873.317019  \n",
      "std       0.500055   36531.546280  \n",
      "min       0.000000    2915.000000  \n",
      "25%       0.000000   37465.500000  \n",
      "50%       0.500000   58165.000000  \n",
      "75%       1.000000   84089.750000  \n",
      "max       1.000000  286827.000000  \n"
     ]
    }
   ],
   "source": [
    "print(bm.dtypes)\n",
    "print(bm.describe())"
   ]
  },
  {
   "source": [
    "Explorando los datos"
   ],
   "cell_type": "markdown",
   "metadata": {}
  },
  {
   "cell_type": "code",
   "execution_count": 32,
   "metadata": {},
   "outputs": [
    {
     "output_type": "stream",
     "name": "stdout",
     "text": [
      "id (store)\n167    54\n117    54\n85     54\n89     54\n93     54\n       ..\n39     54\n43     54\n47     54\n71     54\n48     54\nName: id (store), Length: 84, dtype: int64\n\nyear\n2011    3192\n2012    1344\nName: year, dtype: int64\n\nmonth\n1     504\n10    420\n5     420\n8     420\n4     420\n11    336\n7     336\n3     336\n6     336\n2     336\n9     336\n12    336\nName: month, dtype: int64\n\nweek\n16    168\n51     84\n1      84\n41     84\n37     84\n33     84\n29     84\n25     84\n21     84\n17     84\n13     84\n9      84\n5      84\n52     84\n49     84\n48     84\n44     84\n40     84\n36     84\n32     84\n28     84\n24     84\n20     84\n12     84\n8      84\n45     84\n53     84\n47     84\n2      84\n43     84\n39     84\n35     84\n31     84\n27     84\n23     84\n19     84\n15     84\n11     84\n7      84\n3      84\n50     84\n46     84\n42     84\n38     84\n34     84\n30     84\n26     84\n22     84\n18     84\n14     84\n10     84\n6      84\n4      84\nName: week, dtype: int64\n\nusa\n1    3618\n0     918\nName: usa, dtype: int64\n\nafter\n1    2268\n0    2268\nName: after, dtype: int64\n\nsales\n63127.0     2\n82370.0     2\n48217.0     2\n34264.0     2\n52297.0     2\n           ..\n54102.0     1\n69607.0     1\n125315.0    1\n49996.0     1\n32768.0     1\nName: sales, Length: 4466, dtype: int64\n\n"
     ]
    }
   ],
   "source": [
    "for column in bm.columns.values.tolist():\n",
    "    print(column)\n",
    "    print(bm[column].value_counts())\n",
    "    print(\"\")"
   ]
  },
  {
   "cell_type": "code",
   "execution_count": 33,
   "metadata": {},
   "outputs": [
    {
     "output_type": "stream",
     "name": "stdout",
     "text": [
      "id (DMA)\n207    51\n209    51\n186    51\n178    51\n170    51\n       ..\n37     51\n29     51\n21     51\n13     51\n8      51\nName: id (DMA), Length: 210, dtype: int64\n\nyear\n2011    7770\n2012    2940\nName: year, dtype: int64\n\nmonth\n1     1260\n5     1050\n10    1050\n8     1050\n7      840\n6      840\n12     840\n11     840\n3      840\n2      840\n9      840\n4      420\nName: month, dtype: int64\n\nweek\n47    210\n2     210\n27    210\n19    210\n11    210\n3     210\n50    210\n42    210\n34    210\n26    210\n18    210\n10    210\n49    210\n43    210\n41    210\n33    210\n25    210\n17    210\n9     210\n1     210\n48    210\n40    210\n32    210\n24    210\n35    210\n51    210\n39    210\n45    210\n31    210\n23    210\n7     210\n46    210\n38    210\n30    210\n22    210\n14    210\n6     210\n53    210\n37    210\n4     210\n29    210\n21    210\n13    210\n5     210\n52    210\n44    210\n36    210\n28    210\n20    210\n12    210\n8     210\nName: week, dtype: int64\n\nafter\n0    5460\n1    5250\nName: after, dtype: int64\n\nclose\n0    5559\n1    5151\nName: close, dtype: int64\n\nsales\n373.0      13\n330.0      11\n334.0      11\n203.0      10\n193.0      10\n           ..\n17729.0     1\n17716.0     1\n13661.0     1\n42627.0     1\n2944.0      1\nName: sales, Length: 7857, dtype: int64\n\n"
     ]
    }
   ],
   "source": [
    "for column in online.columns.values.tolist():\n",
    "    print(column)\n",
    "    print(online[column].value_counts())\n",
    "    print(\"\")"
   ]
  },
  {
   "cell_type": "code",
   "execution_count": null,
   "metadata": {},
   "outputs": [],
   "source": []
  },
  {
   "cell_type": "code",
   "execution_count": null,
   "metadata": {},
   "outputs": [],
   "source": []
  }
 ]
}